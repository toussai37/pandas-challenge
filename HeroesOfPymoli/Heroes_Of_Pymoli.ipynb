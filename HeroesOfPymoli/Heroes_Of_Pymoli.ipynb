{
 "cells": [
  {
   "cell_type": "markdown",
   "metadata": {},
   "source": [
    "### Note\n",
    "* Instructions have been included for each segment. You do not have to follow them exactly, but they are included to help you think through the steps."
   ]
  },
  {
   "cell_type": "code",
   "execution_count": 24,
   "metadata": {},
   "outputs": [
    {
     "data": {
      "text/html": [
       "<div>\n",
       "<style scoped>\n",
       "    .dataframe tbody tr th:only-of-type {\n",
       "        vertical-align: middle;\n",
       "    }\n",
       "\n",
       "    .dataframe tbody tr th {\n",
       "        vertical-align: top;\n",
       "    }\n",
       "\n",
       "    .dataframe thead th {\n",
       "        text-align: right;\n",
       "    }\n",
       "</style>\n",
       "<table border=\"1\" class=\"dataframe\">\n",
       "  <thead>\n",
       "    <tr style=\"text-align: right;\">\n",
       "      <th></th>\n",
       "      <th>Purchase ID</th>\n",
       "      <th>SN</th>\n",
       "      <th>Age</th>\n",
       "      <th>Gender</th>\n",
       "      <th>Item ID</th>\n",
       "      <th>Item Name</th>\n",
       "      <th>Price</th>\n",
       "    </tr>\n",
       "  </thead>\n",
       "  <tbody>\n",
       "    <tr>\n",
       "      <th>0</th>\n",
       "      <td>0</td>\n",
       "      <td>Lisim78</td>\n",
       "      <td>20</td>\n",
       "      <td>Male</td>\n",
       "      <td>108</td>\n",
       "      <td>Extraction, Quickblade Of Trembling Hands</td>\n",
       "      <td>3.53</td>\n",
       "    </tr>\n",
       "    <tr>\n",
       "      <th>1</th>\n",
       "      <td>1</td>\n",
       "      <td>Lisovynya38</td>\n",
       "      <td>40</td>\n",
       "      <td>Male</td>\n",
       "      <td>143</td>\n",
       "      <td>Frenzied Scimitar</td>\n",
       "      <td>1.56</td>\n",
       "    </tr>\n",
       "    <tr>\n",
       "      <th>2</th>\n",
       "      <td>2</td>\n",
       "      <td>Ithergue48</td>\n",
       "      <td>24</td>\n",
       "      <td>Male</td>\n",
       "      <td>92</td>\n",
       "      <td>Final Critic</td>\n",
       "      <td>4.88</td>\n",
       "    </tr>\n",
       "    <tr>\n",
       "      <th>3</th>\n",
       "      <td>3</td>\n",
       "      <td>Chamassasya86</td>\n",
       "      <td>24</td>\n",
       "      <td>Male</td>\n",
       "      <td>100</td>\n",
       "      <td>Blindscythe</td>\n",
       "      <td>3.27</td>\n",
       "    </tr>\n",
       "    <tr>\n",
       "      <th>4</th>\n",
       "      <td>4</td>\n",
       "      <td>Iskosia90</td>\n",
       "      <td>23</td>\n",
       "      <td>Male</td>\n",
       "      <td>131</td>\n",
       "      <td>Fury</td>\n",
       "      <td>1.44</td>\n",
       "    </tr>\n",
       "  </tbody>\n",
       "</table>\n",
       "</div>"
      ],
      "text/plain": [
       "   Purchase ID             SN  Age Gender  Item ID  \\\n",
       "0            0        Lisim78   20   Male      108   \n",
       "1            1    Lisovynya38   40   Male      143   \n",
       "2            2     Ithergue48   24   Male       92   \n",
       "3            3  Chamassasya86   24   Male      100   \n",
       "4            4      Iskosia90   23   Male      131   \n",
       "\n",
       "                                   Item Name  Price  \n",
       "0  Extraction, Quickblade Of Trembling Hands   3.53  \n",
       "1                          Frenzied Scimitar   1.56  \n",
       "2                               Final Critic   4.88  \n",
       "3                                Blindscythe   3.27  \n",
       "4                                       Fury   1.44  "
      ]
     },
     "execution_count": 24,
     "metadata": {},
     "output_type": "execute_result"
    }
   ],
   "source": [
    "# Dependencies and Setup\n",
    "import pandas as pd\n",
    "\n",
    "# File to Load (Remember to Change These)\n",
    "csv_path = \"Resources/purchase_data.csv\"\n",
    "\n",
    "# Read Purchasing File and store into Pandas data frame\n",
    "purchase_data_df = pd.read_csv(csv_path)\n",
    "\n",
    "purchase_data_df.head()"
   ]
  },
  {
   "cell_type": "markdown",
   "metadata": {},
   "source": [
    "## Player Count"
   ]
  },
  {
   "cell_type": "markdown",
   "metadata": {},
   "source": [
    "* Display the total number of players\n"
   ]
  },
  {
   "cell_type": "code",
   "execution_count": 25,
   "metadata": {},
   "outputs": [
    {
     "data": {
      "text/html": [
       "<div>\n",
       "<style scoped>\n",
       "    .dataframe tbody tr th:only-of-type {\n",
       "        vertical-align: middle;\n",
       "    }\n",
       "\n",
       "    .dataframe tbody tr th {\n",
       "        vertical-align: top;\n",
       "    }\n",
       "\n",
       "    .dataframe thead th {\n",
       "        text-align: right;\n",
       "    }\n",
       "</style>\n",
       "<table border=\"1\" class=\"dataframe\">\n",
       "  <thead>\n",
       "    <tr style=\"text-align: right;\">\n",
       "      <th></th>\n",
       "      <th>Total Players</th>\n",
       "    </tr>\n",
       "  </thead>\n",
       "  <tbody>\n",
       "    <tr>\n",
       "      <th>0</th>\n",
       "      <td>576</td>\n",
       "    </tr>\n",
       "  </tbody>\n",
       "</table>\n",
       "</div>"
      ],
      "text/plain": [
       "   Total Players\n",
       "0            576"
      ]
     },
     "execution_count": 25,
     "metadata": {},
     "output_type": "execute_result"
    }
   ],
   "source": [
    "total_players = purchase_data_df[\"SN\"].nunique()\n",
    "\n",
    "player_count_df = pd.DataFrame({'Total Players': [total_players]})\n",
    "\n",
    "player_count_df"
   ]
  },
  {
   "cell_type": "markdown",
   "metadata": {},
   "source": [
    "## Purchasing Analysis (Total)"
   ]
  },
  {
   "cell_type": "markdown",
   "metadata": {},
   "source": [
    "* Run basic calculations to obtain number of unique items, average price, etc.\n",
    "\n",
    "\n",
    "* Create a summary data frame to hold the results\n",
    "\n",
    "\n",
    "* Optional: give the displayed data cleaner formatting\n",
    "\n",
    "\n",
    "* Display the summary data frame\n"
   ]
  },
  {
   "cell_type": "code",
   "execution_count": 26,
   "metadata": {},
   "outputs": [
    {
     "data": {
      "text/html": [
       "<div>\n",
       "<style scoped>\n",
       "    .dataframe tbody tr th:only-of-type {\n",
       "        vertical-align: middle;\n",
       "    }\n",
       "\n",
       "    .dataframe tbody tr th {\n",
       "        vertical-align: top;\n",
       "    }\n",
       "\n",
       "    .dataframe thead th {\n",
       "        text-align: right;\n",
       "    }\n",
       "</style>\n",
       "<table border=\"1\" class=\"dataframe\">\n",
       "  <thead>\n",
       "    <tr style=\"text-align: right;\">\n",
       "      <th></th>\n",
       "      <th>Number of Unique Items</th>\n",
       "      <th>Average Price</th>\n",
       "      <th>Number of Purchases</th>\n",
       "      <th>Total Revenue</th>\n",
       "    </tr>\n",
       "  </thead>\n",
       "  <tbody>\n",
       "    <tr>\n",
       "      <th>0</th>\n",
       "      <td>179</td>\n",
       "      <td>$3.05</td>\n",
       "      <td>780</td>\n",
       "      <td>$2379.77</td>\n",
       "    </tr>\n",
       "  </tbody>\n",
       "</table>\n",
       "</div>"
      ],
      "text/plain": [
       "   Number of Unique Items Average Price  Number of Purchases Total Revenue\n",
       "0                     179         $3.05                  780      $2379.77"
      ]
     },
     "execution_count": 26,
     "metadata": {},
     "output_type": "execute_result"
    }
   ],
   "source": [
    "unique_items = purchase_data_df[\"Item Name\"].nunique()\n",
    "average_price = \"${:.2f}\".format(purchase_data_df[\"Price\"].mean())\n",
    "purchases = purchase_data_df[\"Purchase ID\"].nunique()\n",
    "revenue = \"${:.2f}\".format(purchase_data_df[\"Price\"].sum())\n",
    "\n",
    "purchasing_analysis_df =  pd.DataFrame({'Number of Unique Items': [unique_items], 'Average Price': [average_price],\n",
    "                                       'Number of Purchases': [purchases], 'Total Revenue': [revenue]})\n",
    "\n",
    "purchasing_analysis_df"
   ]
  },
  {
   "cell_type": "markdown",
   "metadata": {},
   "source": [
    "## Gender Demographics"
   ]
  },
  {
   "cell_type": "markdown",
   "metadata": {},
   "source": [
    "* Percentage and Count of Male Players\n",
    "\n",
    "\n",
    "* Percentage and Count of Female Players\n",
    "\n",
    "\n",
    "* Percentage and Count of Other / Non-Disclosed\n",
    "\n",
    "\n"
   ]
  },
  {
   "cell_type": "code",
   "execution_count": 27,
   "metadata": {},
   "outputs": [
    {
     "data": {
      "text/html": [
       "<style  type=\"text/css\" >\n",
       "</style><table id=\"T_0d547a98_e44b_11eb_b30b_d0a637e54642\" ><thead>    <tr>        <th class=\"blank level0\" ></th>        <th class=\"col_heading level0 col0\" >Total Count</th>        <th class=\"col_heading level0 col1\" >Percentage of Players</th>    </tr></thead><tbody>\n",
       "                <tr>\n",
       "                        <th id=\"T_0d547a98_e44b_11eb_b30b_d0a637e54642level0_row0\" class=\"row_heading level0 row0\" >Male</th>\n",
       "                        <td id=\"T_0d547a98_e44b_11eb_b30b_d0a637e54642row0_col0\" class=\"data row0 col0\" >484</td>\n",
       "                        <td id=\"T_0d547a98_e44b_11eb_b30b_d0a637e54642row0_col1\" class=\"data row0 col1\" >84.03%</td>\n",
       "            </tr>\n",
       "            <tr>\n",
       "                        <th id=\"T_0d547a98_e44b_11eb_b30b_d0a637e54642level0_row1\" class=\"row_heading level0 row1\" >Female</th>\n",
       "                        <td id=\"T_0d547a98_e44b_11eb_b30b_d0a637e54642row1_col0\" class=\"data row1 col0\" >81</td>\n",
       "                        <td id=\"T_0d547a98_e44b_11eb_b30b_d0a637e54642row1_col1\" class=\"data row1 col1\" >14.06%</td>\n",
       "            </tr>\n",
       "            <tr>\n",
       "                        <th id=\"T_0d547a98_e44b_11eb_b30b_d0a637e54642level0_row2\" class=\"row_heading level0 row2\" >Other / Non-Disclosed</th>\n",
       "                        <td id=\"T_0d547a98_e44b_11eb_b30b_d0a637e54642row2_col0\" class=\"data row2 col0\" >11</td>\n",
       "                        <td id=\"T_0d547a98_e44b_11eb_b30b_d0a637e54642row2_col1\" class=\"data row2 col1\" >1.91%</td>\n",
       "            </tr>\n",
       "    </tbody></table>"
      ],
      "text/plain": [
       "<pandas.io.formats.style.Styler at 0x7fc6588774a8>"
      ]
     },
     "execution_count": 27,
     "metadata": {},
     "output_type": "execute_result"
    }
   ],
   "source": [
    "groupby_gender_df = purchase_data_df.groupby(\"Gender\")\n",
    "gender_count = groupby_gender_df[\"SN\"].nunique()\n",
    "percentage_of_players = gender_count / total_players * 100\n",
    "gender_count_df = pd.DataFrame({\"Total Count\": gender_count, \"Percentage of Players\": percentage_of_players})\n",
    "gender_demographics_df = gender_count_df.sort_values(\"Total Count\", ascending = False).style.format({\"Percentage of Players\":\"{:.2f}%\"})\n",
    "\n",
    "gender_demographics_df.index.name = None\n",
    "\n",
    "\n",
    "gender_demographics_df"
   ]
  },
  {
   "cell_type": "markdown",
   "metadata": {},
   "source": [
    "\n",
    "## Purchasing Analysis (Gender)"
   ]
  },
  {
   "cell_type": "markdown",
   "metadata": {},
   "source": [
    "* Run basic calculations to obtain purchase count, avg. purchase price, avg. purchase total per person etc. by gender\n",
    "\n",
    "\n",
    "\n",
    "\n",
    "* Create a summary data frame to hold the results\n",
    "\n",
    "\n",
    "* Optional: give the displayed data cleaner formatting\n",
    "\n",
    "\n",
    "* Display the summary data frame"
   ]
  },
  {
   "cell_type": "code",
   "execution_count": 28,
   "metadata": {},
   "outputs": [
    {
     "data": {
      "text/html": [
       "<style  type=\"text/css\" >\n",
       "</style><table id=\"T_0dae5a9a_e44b_11eb_94f6_d0a637e54642\" ><thead>    <tr>        <th class=\"blank level0\" ></th>        <th class=\"col_heading level0 col0\" >Purchase Count</th>        <th class=\"col_heading level0 col1\" >Average Purchase Price</th>        <th class=\"col_heading level0 col2\" >Total Purchase Value</th>        <th class=\"col_heading level0 col3\" >Avg Total Purchase per Person</th>    </tr>    <tr>        <th class=\"index_name level0\" >Gender</th>        <th class=\"blank\" ></th>        <th class=\"blank\" ></th>        <th class=\"blank\" ></th>        <th class=\"blank\" ></th>    </tr></thead><tbody>\n",
       "                <tr>\n",
       "                        <th id=\"T_0dae5a9a_e44b_11eb_94f6_d0a637e54642level0_row0\" class=\"row_heading level0 row0\" >Female</th>\n",
       "                        <td id=\"T_0dae5a9a_e44b_11eb_94f6_d0a637e54642row0_col0\" class=\"data row0 col0\" >113</td>\n",
       "                        <td id=\"T_0dae5a9a_e44b_11eb_94f6_d0a637e54642row0_col1\" class=\"data row0 col1\" >$3.20</td>\n",
       "                        <td id=\"T_0dae5a9a_e44b_11eb_94f6_d0a637e54642row0_col2\" class=\"data row0 col2\" >$361.94</td>\n",
       "                        <td id=\"T_0dae5a9a_e44b_11eb_94f6_d0a637e54642row0_col3\" class=\"data row0 col3\" >$4.47</td>\n",
       "            </tr>\n",
       "            <tr>\n",
       "                        <th id=\"T_0dae5a9a_e44b_11eb_94f6_d0a637e54642level0_row1\" class=\"row_heading level0 row1\" >Male</th>\n",
       "                        <td id=\"T_0dae5a9a_e44b_11eb_94f6_d0a637e54642row1_col0\" class=\"data row1 col0\" >652</td>\n",
       "                        <td id=\"T_0dae5a9a_e44b_11eb_94f6_d0a637e54642row1_col1\" class=\"data row1 col1\" >$3.02</td>\n",
       "                        <td id=\"T_0dae5a9a_e44b_11eb_94f6_d0a637e54642row1_col2\" class=\"data row1 col2\" >$1,967.64</td>\n",
       "                        <td id=\"T_0dae5a9a_e44b_11eb_94f6_d0a637e54642row1_col3\" class=\"data row1 col3\" >$4.07</td>\n",
       "            </tr>\n",
       "            <tr>\n",
       "                        <th id=\"T_0dae5a9a_e44b_11eb_94f6_d0a637e54642level0_row2\" class=\"row_heading level0 row2\" >Other / Non-Disclosed</th>\n",
       "                        <td id=\"T_0dae5a9a_e44b_11eb_94f6_d0a637e54642row2_col0\" class=\"data row2 col0\" >15</td>\n",
       "                        <td id=\"T_0dae5a9a_e44b_11eb_94f6_d0a637e54642row2_col1\" class=\"data row2 col1\" >$3.35</td>\n",
       "                        <td id=\"T_0dae5a9a_e44b_11eb_94f6_d0a637e54642row2_col2\" class=\"data row2 col2\" >$50.19</td>\n",
       "                        <td id=\"T_0dae5a9a_e44b_11eb_94f6_d0a637e54642row2_col3\" class=\"data row2 col3\" >$4.56</td>\n",
       "            </tr>\n",
       "    </tbody></table>"
      ],
      "text/plain": [
       "<pandas.io.formats.style.Styler at 0x7fc656746358>"
      ]
     },
     "execution_count": 28,
     "metadata": {},
     "output_type": "execute_result"
    }
   ],
   "source": [
    "purchase_count = groupby_gender_df[\"Purchase ID\"].count()\n",
    "average_purchase_price = groupby_gender_df[\"Price\"].mean()\n",
    "purchase_total = groupby_gender_df[\"Price\"].sum()\n",
    "average_purchase_total_pp = purchase_total/gender_count\n",
    "\n",
    "gender_count_df = pd.DataFrame({\"Purchase Count\": purchase_count, \n",
    "                                \"Average Purchase Price\": average_purchase_price,\n",
    "                                \"Total Purchase Value\": purchase_total,\n",
    "                                \"Avg Total Purchase per Person\": average_purchase_total_pp})\n",
    "\n",
    "purchasing_analysis_df = gender_count_df.style.format({\"Average Purchase Price\":\"${:.2f}\",\n",
    "                                                          \"Total Purchase Value\":\"${:,.2f}\",\n",
    "                                                          \"Avg Total Purchase per Person\":\"${:.2f}\"})\n",
    "\n",
    "purchasing_analysis_df"
   ]
  },
  {
   "cell_type": "markdown",
   "metadata": {},
   "source": [
    "## Age Demographics"
   ]
  },
  {
   "cell_type": "markdown",
   "metadata": {},
   "source": [
    "* Establish bins for ages\n",
    "\n",
    "\n",
    "* Categorize the existing players using the age bins. Hint: use pd.cut()\n",
    "\n",
    "\n",
    "* Calculate the numbers and percentages by age group\n",
    "\n",
    "\n",
    "* Create a summary data frame to hold the results\n",
    "\n",
    "\n",
    "* Optional: round the percentage column to two decimal points\n",
    "\n",
    "\n",
    "* Display Age Demographics Table\n"
   ]
  },
  {
   "cell_type": "code",
   "execution_count": 29,
   "metadata": {},
   "outputs": [
    {
     "data": {
      "text/html": [
       "<style  type=\"text/css\" >\n",
       "</style><table id=\"T_0e393cfa_e44b_11eb_9043_d0a637e54642\" ><thead>    <tr>        <th class=\"blank level0\" ></th>        <th class=\"col_heading level0 col0\" >Total Count</th>        <th class=\"col_heading level0 col1\" >Percentage of Players</th>    </tr></thead><tbody>\n",
       "                <tr>\n",
       "                        <th id=\"T_0e393cfa_e44b_11eb_9043_d0a637e54642level0_row0\" class=\"row_heading level0 row0\" ><10</th>\n",
       "                        <td id=\"T_0e393cfa_e44b_11eb_9043_d0a637e54642row0_col0\" class=\"data row0 col0\" >17</td>\n",
       "                        <td id=\"T_0e393cfa_e44b_11eb_9043_d0a637e54642row0_col1\" class=\"data row0 col1\" >2.95%</td>\n",
       "            </tr>\n",
       "            <tr>\n",
       "                        <th id=\"T_0e393cfa_e44b_11eb_9043_d0a637e54642level0_row1\" class=\"row_heading level0 row1\" >10-14</th>\n",
       "                        <td id=\"T_0e393cfa_e44b_11eb_9043_d0a637e54642row1_col0\" class=\"data row1 col0\" >22</td>\n",
       "                        <td id=\"T_0e393cfa_e44b_11eb_9043_d0a637e54642row1_col1\" class=\"data row1 col1\" >3.82%</td>\n",
       "            </tr>\n",
       "            <tr>\n",
       "                        <th id=\"T_0e393cfa_e44b_11eb_9043_d0a637e54642level0_row2\" class=\"row_heading level0 row2\" >15-19</th>\n",
       "                        <td id=\"T_0e393cfa_e44b_11eb_9043_d0a637e54642row2_col0\" class=\"data row2 col0\" >107</td>\n",
       "                        <td id=\"T_0e393cfa_e44b_11eb_9043_d0a637e54642row2_col1\" class=\"data row2 col1\" >18.58%</td>\n",
       "            </tr>\n",
       "            <tr>\n",
       "                        <th id=\"T_0e393cfa_e44b_11eb_9043_d0a637e54642level0_row3\" class=\"row_heading level0 row3\" >20-24</th>\n",
       "                        <td id=\"T_0e393cfa_e44b_11eb_9043_d0a637e54642row3_col0\" class=\"data row3 col0\" >258</td>\n",
       "                        <td id=\"T_0e393cfa_e44b_11eb_9043_d0a637e54642row3_col1\" class=\"data row3 col1\" >44.79%</td>\n",
       "            </tr>\n",
       "            <tr>\n",
       "                        <th id=\"T_0e393cfa_e44b_11eb_9043_d0a637e54642level0_row4\" class=\"row_heading level0 row4\" >25-29</th>\n",
       "                        <td id=\"T_0e393cfa_e44b_11eb_9043_d0a637e54642row4_col0\" class=\"data row4 col0\" >77</td>\n",
       "                        <td id=\"T_0e393cfa_e44b_11eb_9043_d0a637e54642row4_col1\" class=\"data row4 col1\" >13.37%</td>\n",
       "            </tr>\n",
       "            <tr>\n",
       "                        <th id=\"T_0e393cfa_e44b_11eb_9043_d0a637e54642level0_row5\" class=\"row_heading level0 row5\" >30-34</th>\n",
       "                        <td id=\"T_0e393cfa_e44b_11eb_9043_d0a637e54642row5_col0\" class=\"data row5 col0\" >52</td>\n",
       "                        <td id=\"T_0e393cfa_e44b_11eb_9043_d0a637e54642row5_col1\" class=\"data row5 col1\" >9.03%</td>\n",
       "            </tr>\n",
       "            <tr>\n",
       "                        <th id=\"T_0e393cfa_e44b_11eb_9043_d0a637e54642level0_row6\" class=\"row_heading level0 row6\" >35-39</th>\n",
       "                        <td id=\"T_0e393cfa_e44b_11eb_9043_d0a637e54642row6_col0\" class=\"data row6 col0\" >31</td>\n",
       "                        <td id=\"T_0e393cfa_e44b_11eb_9043_d0a637e54642row6_col1\" class=\"data row6 col1\" >5.38%</td>\n",
       "            </tr>\n",
       "            <tr>\n",
       "                        <th id=\"T_0e393cfa_e44b_11eb_9043_d0a637e54642level0_row7\" class=\"row_heading level0 row7\" >40+</th>\n",
       "                        <td id=\"T_0e393cfa_e44b_11eb_9043_d0a637e54642row7_col0\" class=\"data row7 col0\" >12</td>\n",
       "                        <td id=\"T_0e393cfa_e44b_11eb_9043_d0a637e54642row7_col1\" class=\"data row7 col1\" >2.08%</td>\n",
       "            </tr>\n",
       "    </tbody></table>"
      ],
      "text/plain": [
       "<pandas.io.formats.style.Styler at 0x7fc658455470>"
      ]
     },
     "execution_count": 29,
     "metadata": {},
     "output_type": "execute_result"
    }
   ],
   "source": [
    "bins = [0, 9.9, 14.9, 19.9, 24.9, 29.9, 34.9, 39.9, 122 ]\n",
    "age_groups = [\"<10\", \"10-14\", \"15-19\", \"20-24\", \"25-29\", \"30-34\", \"35-39\", \"40+\"]\n",
    "purchase_data_df[\"Age Group\"] = pd.cut(purchase_data_df[\"Age\"],bins, labels=age_groups)\n",
    "groupby_age_group_df = purchase_data_df.groupby(\"Age Group\")\n",
    "age_count = groupby_age_group_df[\"SN\"].nunique()\n",
    "\n",
    "age_percentage = (age_count/total_players) * 100\n",
    "\n",
    "age_demographics_df = pd.DataFrame({\"Total Count\": age_count, \"Percentage of Players\": age_percentage})\n",
    "\n",
    "age_demographics_format_df = age_demographics_df.style.format({\"Percentage of Players\":\"{:,.2f}%\"})\n",
    "\n",
    "age_demographics_format_df.index.name = None\n",
    "\n",
    "age_demographics_format_df"
   ]
  },
  {
   "cell_type": "markdown",
   "metadata": {},
   "source": [
    "## Purchasing Analysis (Age)"
   ]
  },
  {
   "cell_type": "markdown",
   "metadata": {},
   "source": [
    "* Bin the purchase_data data frame by age\n",
    "\n",
    "\n",
    "* Run basic calculations to obtain purchase count, avg. purchase price, avg. purchase total per person etc. in the table below\n",
    "\n",
    "\n",
    "* Create a summary data frame to hold the results\n",
    "\n",
    "\n",
    "* Optional: give the displayed data cleaner formatting\n",
    "\n",
    "\n",
    "* Display the summary data frame"
   ]
  },
  {
   "cell_type": "code",
   "execution_count": 30,
   "metadata": {},
   "outputs": [
    {
     "data": {
      "text/html": [
       "<style  type=\"text/css\" >\n",
       "</style><table id=\"T_0f16872c_e44b_11eb_b0ba_d0a637e54642\" ><thead>    <tr>        <th class=\"blank level0\" ></th>        <th class=\"col_heading level0 col0\" >Purchase Count</th>        <th class=\"col_heading level0 col1\" >Average Purchase Price</th>        <th class=\"col_heading level0 col2\" >Total Purchase Value</th>        <th class=\"col_heading level0 col3\" >Avg Total Purchase per Person</th>    </tr>    <tr>        <th class=\"index_name level0\" >Age Ranges</th>        <th class=\"blank\" ></th>        <th class=\"blank\" ></th>        <th class=\"blank\" ></th>        <th class=\"blank\" ></th>    </tr></thead><tbody>\n",
       "                <tr>\n",
       "                        <th id=\"T_0f16872c_e44b_11eb_b0ba_d0a637e54642level0_row0\" class=\"row_heading level0 row0\" ><10</th>\n",
       "                        <td id=\"T_0f16872c_e44b_11eb_b0ba_d0a637e54642row0_col0\" class=\"data row0 col0\" >23</td>\n",
       "                        <td id=\"T_0f16872c_e44b_11eb_b0ba_d0a637e54642row0_col1\" class=\"data row0 col1\" >$3.35</td>\n",
       "                        <td id=\"T_0f16872c_e44b_11eb_b0ba_d0a637e54642row0_col2\" class=\"data row0 col2\" >$77.13</td>\n",
       "                        <td id=\"T_0f16872c_e44b_11eb_b0ba_d0a637e54642row0_col3\" class=\"data row0 col3\" >$4.54</td>\n",
       "            </tr>\n",
       "            <tr>\n",
       "                        <th id=\"T_0f16872c_e44b_11eb_b0ba_d0a637e54642level0_row1\" class=\"row_heading level0 row1\" >10-14</th>\n",
       "                        <td id=\"T_0f16872c_e44b_11eb_b0ba_d0a637e54642row1_col0\" class=\"data row1 col0\" >28</td>\n",
       "                        <td id=\"T_0f16872c_e44b_11eb_b0ba_d0a637e54642row1_col1\" class=\"data row1 col1\" >$2.96</td>\n",
       "                        <td id=\"T_0f16872c_e44b_11eb_b0ba_d0a637e54642row1_col2\" class=\"data row1 col2\" >$82.78</td>\n",
       "                        <td id=\"T_0f16872c_e44b_11eb_b0ba_d0a637e54642row1_col3\" class=\"data row1 col3\" >$3.76</td>\n",
       "            </tr>\n",
       "            <tr>\n",
       "                        <th id=\"T_0f16872c_e44b_11eb_b0ba_d0a637e54642level0_row2\" class=\"row_heading level0 row2\" >15-19</th>\n",
       "                        <td id=\"T_0f16872c_e44b_11eb_b0ba_d0a637e54642row2_col0\" class=\"data row2 col0\" >136</td>\n",
       "                        <td id=\"T_0f16872c_e44b_11eb_b0ba_d0a637e54642row2_col1\" class=\"data row2 col1\" >$3.04</td>\n",
       "                        <td id=\"T_0f16872c_e44b_11eb_b0ba_d0a637e54642row2_col2\" class=\"data row2 col2\" >$412.89</td>\n",
       "                        <td id=\"T_0f16872c_e44b_11eb_b0ba_d0a637e54642row2_col3\" class=\"data row2 col3\" >$3.86</td>\n",
       "            </tr>\n",
       "            <tr>\n",
       "                        <th id=\"T_0f16872c_e44b_11eb_b0ba_d0a637e54642level0_row3\" class=\"row_heading level0 row3\" >20-24</th>\n",
       "                        <td id=\"T_0f16872c_e44b_11eb_b0ba_d0a637e54642row3_col0\" class=\"data row3 col0\" >365</td>\n",
       "                        <td id=\"T_0f16872c_e44b_11eb_b0ba_d0a637e54642row3_col1\" class=\"data row3 col1\" >$3.05</td>\n",
       "                        <td id=\"T_0f16872c_e44b_11eb_b0ba_d0a637e54642row3_col2\" class=\"data row3 col2\" >$1,114.06</td>\n",
       "                        <td id=\"T_0f16872c_e44b_11eb_b0ba_d0a637e54642row3_col3\" class=\"data row3 col3\" >$4.32</td>\n",
       "            </tr>\n",
       "            <tr>\n",
       "                        <th id=\"T_0f16872c_e44b_11eb_b0ba_d0a637e54642level0_row4\" class=\"row_heading level0 row4\" >25-29</th>\n",
       "                        <td id=\"T_0f16872c_e44b_11eb_b0ba_d0a637e54642row4_col0\" class=\"data row4 col0\" >101</td>\n",
       "                        <td id=\"T_0f16872c_e44b_11eb_b0ba_d0a637e54642row4_col1\" class=\"data row4 col1\" >$2.90</td>\n",
       "                        <td id=\"T_0f16872c_e44b_11eb_b0ba_d0a637e54642row4_col2\" class=\"data row4 col2\" >$293.00</td>\n",
       "                        <td id=\"T_0f16872c_e44b_11eb_b0ba_d0a637e54642row4_col3\" class=\"data row4 col3\" >$3.81</td>\n",
       "            </tr>\n",
       "            <tr>\n",
       "                        <th id=\"T_0f16872c_e44b_11eb_b0ba_d0a637e54642level0_row5\" class=\"row_heading level0 row5\" >30-34</th>\n",
       "                        <td id=\"T_0f16872c_e44b_11eb_b0ba_d0a637e54642row5_col0\" class=\"data row5 col0\" >73</td>\n",
       "                        <td id=\"T_0f16872c_e44b_11eb_b0ba_d0a637e54642row5_col1\" class=\"data row5 col1\" >$2.93</td>\n",
       "                        <td id=\"T_0f16872c_e44b_11eb_b0ba_d0a637e54642row5_col2\" class=\"data row5 col2\" >$214.00</td>\n",
       "                        <td id=\"T_0f16872c_e44b_11eb_b0ba_d0a637e54642row5_col3\" class=\"data row5 col3\" >$4.12</td>\n",
       "            </tr>\n",
       "            <tr>\n",
       "                        <th id=\"T_0f16872c_e44b_11eb_b0ba_d0a637e54642level0_row6\" class=\"row_heading level0 row6\" >35-39</th>\n",
       "                        <td id=\"T_0f16872c_e44b_11eb_b0ba_d0a637e54642row6_col0\" class=\"data row6 col0\" >41</td>\n",
       "                        <td id=\"T_0f16872c_e44b_11eb_b0ba_d0a637e54642row6_col1\" class=\"data row6 col1\" >$3.60</td>\n",
       "                        <td id=\"T_0f16872c_e44b_11eb_b0ba_d0a637e54642row6_col2\" class=\"data row6 col2\" >$147.67</td>\n",
       "                        <td id=\"T_0f16872c_e44b_11eb_b0ba_d0a637e54642row6_col3\" class=\"data row6 col3\" >$4.76</td>\n",
       "            </tr>\n",
       "            <tr>\n",
       "                        <th id=\"T_0f16872c_e44b_11eb_b0ba_d0a637e54642level0_row7\" class=\"row_heading level0 row7\" >40+</th>\n",
       "                        <td id=\"T_0f16872c_e44b_11eb_b0ba_d0a637e54642row7_col0\" class=\"data row7 col0\" >13</td>\n",
       "                        <td id=\"T_0f16872c_e44b_11eb_b0ba_d0a637e54642row7_col1\" class=\"data row7 col1\" >$2.94</td>\n",
       "                        <td id=\"T_0f16872c_e44b_11eb_b0ba_d0a637e54642row7_col2\" class=\"data row7 col2\" >$38.24</td>\n",
       "                        <td id=\"T_0f16872c_e44b_11eb_b0ba_d0a637e54642row7_col3\" class=\"data row7 col3\" >$3.19</td>\n",
       "            </tr>\n",
       "    </tbody></table>"
      ],
      "text/plain": [
       "<pandas.io.formats.style.Styler at 0x7fc65845c898>"
      ]
     },
     "execution_count": 30,
     "metadata": {},
     "output_type": "execute_result"
    }
   ],
   "source": [
    "purchase_count = groupby_age_group_df[\"Purchase ID\"].count()\n",
    "average_purchase_price = groupby_age_group_df[\"Price\"].mean()\n",
    "total_purchase_value = groupby_age_group_df[\"Price\"].sum()\n",
    "avgerage_total_purchase_per_person = total_purchase_value/age_count\n",
    "\n",
    "purchasing_analysis_df = pd.DataFrame({\"Purchase Count\": purchase_count,\n",
    "                                       \"Average Purchase Price\": average_purchase_price,\n",
    "                                       \"Total Purchase Value\": total_purchase_value,\n",
    "                                       \"Avg Total Purchase per Person\": avgerage_total_purchase_per_person})\n",
    "\n",
    "purchasing_analysis_format_df = purchasing_analysis_df.style.format({\"Average Purchase Price\":\"${:.2f}\",\n",
    "                                                                     \"Total Purchase Value\":\"${:,.2f}\",\n",
    "                                                                     \"Avg Total Purchase per Person\":\"${:.2f}\"})\n",
    "purchasing_analysis_format_df.index.name = \"Age Ranges\"\n",
    "\n",
    "purchasing_analysis_format_df"
   ]
  },
  {
   "cell_type": "markdown",
   "metadata": {},
   "source": [
    "## Top Spenders"
   ]
  },
  {
   "cell_type": "markdown",
   "metadata": {},
   "source": [
    "* Run basic calculations to obtain the results in the table below\n",
    "\n",
    "\n",
    "* Create a summary data frame to hold the results\n",
    "\n",
    "\n",
    "* Sort the total purchase value column in descending order\n",
    "\n",
    "\n",
    "* Optional: give the displayed data cleaner formatting\n",
    "\n",
    "\n",
    "* Display a preview of the summary data frame\n",
    "\n"
   ]
  },
  {
   "cell_type": "code",
   "execution_count": 31,
   "metadata": {},
   "outputs": [
    {
     "data": {
      "text/html": [
       "<style  type=\"text/css\" >\n",
       "</style><table id=\"T_0fff39cc_e44b_11eb_9a06_d0a637e54642\" ><thead>    <tr>        <th class=\"blank level0\" ></th>        <th class=\"col_heading level0 col0\" >Purchase Count</th>        <th class=\"col_heading level0 col1\" >Average Purchase Price</th>        <th class=\"col_heading level0 col2\" >Total Purchase Value</th>    </tr>    <tr>        <th class=\"index_name level0\" >SN</th>        <th class=\"blank\" ></th>        <th class=\"blank\" ></th>        <th class=\"blank\" ></th>    </tr></thead><tbody>\n",
       "                <tr>\n",
       "                        <th id=\"T_0fff39cc_e44b_11eb_9a06_d0a637e54642level0_row0\" class=\"row_heading level0 row0\" >Lisosia93</th>\n",
       "                        <td id=\"T_0fff39cc_e44b_11eb_9a06_d0a637e54642row0_col0\" class=\"data row0 col0\" >5</td>\n",
       "                        <td id=\"T_0fff39cc_e44b_11eb_9a06_d0a637e54642row0_col1\" class=\"data row0 col1\" >$3.79</td>\n",
       "                        <td id=\"T_0fff39cc_e44b_11eb_9a06_d0a637e54642row0_col2\" class=\"data row0 col2\" >$18.96</td>\n",
       "            </tr>\n",
       "            <tr>\n",
       "                        <th id=\"T_0fff39cc_e44b_11eb_9a06_d0a637e54642level0_row1\" class=\"row_heading level0 row1\" >Idastidru52</th>\n",
       "                        <td id=\"T_0fff39cc_e44b_11eb_9a06_d0a637e54642row1_col0\" class=\"data row1 col0\" >4</td>\n",
       "                        <td id=\"T_0fff39cc_e44b_11eb_9a06_d0a637e54642row1_col1\" class=\"data row1 col1\" >$3.86</td>\n",
       "                        <td id=\"T_0fff39cc_e44b_11eb_9a06_d0a637e54642row1_col2\" class=\"data row1 col2\" >$15.45</td>\n",
       "            </tr>\n",
       "            <tr>\n",
       "                        <th id=\"T_0fff39cc_e44b_11eb_9a06_d0a637e54642level0_row2\" class=\"row_heading level0 row2\" >Chamjask73</th>\n",
       "                        <td id=\"T_0fff39cc_e44b_11eb_9a06_d0a637e54642row2_col0\" class=\"data row2 col0\" >3</td>\n",
       "                        <td id=\"T_0fff39cc_e44b_11eb_9a06_d0a637e54642row2_col1\" class=\"data row2 col1\" >$4.61</td>\n",
       "                        <td id=\"T_0fff39cc_e44b_11eb_9a06_d0a637e54642row2_col2\" class=\"data row2 col2\" >$13.83</td>\n",
       "            </tr>\n",
       "            <tr>\n",
       "                        <th id=\"T_0fff39cc_e44b_11eb_9a06_d0a637e54642level0_row3\" class=\"row_heading level0 row3\" >Iral74</th>\n",
       "                        <td id=\"T_0fff39cc_e44b_11eb_9a06_d0a637e54642row3_col0\" class=\"data row3 col0\" >4</td>\n",
       "                        <td id=\"T_0fff39cc_e44b_11eb_9a06_d0a637e54642row3_col1\" class=\"data row3 col1\" >$3.40</td>\n",
       "                        <td id=\"T_0fff39cc_e44b_11eb_9a06_d0a637e54642row3_col2\" class=\"data row3 col2\" >$13.62</td>\n",
       "            </tr>\n",
       "            <tr>\n",
       "                        <th id=\"T_0fff39cc_e44b_11eb_9a06_d0a637e54642level0_row4\" class=\"row_heading level0 row4\" >Iskadarya95</th>\n",
       "                        <td id=\"T_0fff39cc_e44b_11eb_9a06_d0a637e54642row4_col0\" class=\"data row4 col0\" >3</td>\n",
       "                        <td id=\"T_0fff39cc_e44b_11eb_9a06_d0a637e54642row4_col1\" class=\"data row4 col1\" >$4.37</td>\n",
       "                        <td id=\"T_0fff39cc_e44b_11eb_9a06_d0a637e54642row4_col2\" class=\"data row4 col2\" >$13.10</td>\n",
       "            </tr>\n",
       "    </tbody></table>"
      ],
      "text/plain": [
       "<pandas.io.formats.style.Styler at 0x7fc65845cef0>"
      ]
     },
     "execution_count": 31,
     "metadata": {},
     "output_type": "execute_result"
    }
   ],
   "source": [
    "purchase_data_groupby_sn_df = purchase_data_df.groupby(\"SN\")\n",
    "purchase_count_2 = purchase_data_groupby_sn_df[\"Purchase ID\"].count()\n",
    "average_purchase_price_2 = purchase_data_groupby_sn_df[\"Price\"].mean()\n",
    "total_purchase_value_2 = purchase_data_groupby_sn_df[\"Price\"].sum()\n",
    "\n",
    "top_spenders_df = pd.DataFrame({\"Purchase Count\": purchase_count_2,\n",
    "                                       \"Average Purchase Price\": average_purchase_price_2,\n",
    "                                       \"Total Purchase Value\": total_purchase_value_2,})\n",
    "\n",
    "top_spenders_descending_df = top_spenders_df.sort_values([\"Total Purchase Value\"], ascending=False).head()\n",
    "\n",
    "top_spenders_format_df = top_spenders_descending_df.style.format({\"Average Purchase Price\":\"${:.2f}\",\n",
    "                                                                     \"Total Purchase Value\":\"${:.2f}\"})\n",
    "\n",
    "\n",
    "\n",
    "top_spenders_format_df"
   ]
  },
  {
   "cell_type": "markdown",
   "metadata": {},
   "source": [
    "## Most Popular Items"
   ]
  },
  {
   "cell_type": "markdown",
   "metadata": {},
   "source": [
    "* Retrieve the Item ID, Item Name, and Item Price columns\n",
    "\n",
    "\n",
    "* Group by Item ID and Item Name. Perform calculations to obtain purchase count, average item price, and total purchase value\n",
    "\n",
    "\n",
    "* Create a summary data frame to hold the results\n",
    "\n",
    "\n",
    "* Sort the purchase count column in descending order\n",
    "\n",
    "\n",
    "* Optional: give the displayed data cleaner formatting\n",
    "\n",
    "\n",
    "* Display a preview of the summary data frame\n",
    "\n"
   ]
  },
  {
   "cell_type": "code",
   "execution_count": 44,
   "metadata": {},
   "outputs": [
    {
     "data": {
      "text/html": [
       "<style  type=\"text/css\" >\n",
       "</style><table id=\"T_c1e37674_e44d_11eb_a23e_d0a637e54642\" ><thead>    <tr>        <th class=\"blank\" ></th>        <th class=\"blank level0\" ></th>        <th class=\"col_heading level0 col0\" >Purchase Count</th>        <th class=\"col_heading level0 col1\" >Item Price</th>        <th class=\"col_heading level0 col2\" >Total Purchase Value</th>    </tr>    <tr>        <th class=\"index_name level0\" >Item ID</th>        <th class=\"index_name level1\" >Item Name</th>        <th class=\"blank\" ></th>        <th class=\"blank\" ></th>        <th class=\"blank\" ></th>    </tr></thead><tbody>\n",
       "                <tr>\n",
       "                        <th id=\"T_c1e37674_e44d_11eb_a23e_d0a637e54642level0_row0\" class=\"row_heading level0 row0\" >92</th>\n",
       "                        <th id=\"T_c1e37674_e44d_11eb_a23e_d0a637e54642level1_row0\" class=\"row_heading level1 row0\" >Final Critic</th>\n",
       "                        <td id=\"T_c1e37674_e44d_11eb_a23e_d0a637e54642row0_col0\" class=\"data row0 col0\" >13</td>\n",
       "                        <td id=\"T_c1e37674_e44d_11eb_a23e_d0a637e54642row0_col1\" class=\"data row0 col1\" >$4.61</td>\n",
       "                        <td id=\"T_c1e37674_e44d_11eb_a23e_d0a637e54642row0_col2\" class=\"data row0 col2\" >$59.99</td>\n",
       "            </tr>\n",
       "            <tr>\n",
       "                        <th id=\"T_c1e37674_e44d_11eb_a23e_d0a637e54642level0_row1\" class=\"row_heading level0 row1\" >178</th>\n",
       "                        <th id=\"T_c1e37674_e44d_11eb_a23e_d0a637e54642level1_row1\" class=\"row_heading level1 row1\" >Oathbreaker, Last Hope of the Breaking Storm</th>\n",
       "                        <td id=\"T_c1e37674_e44d_11eb_a23e_d0a637e54642row1_col0\" class=\"data row1 col0\" >12</td>\n",
       "                        <td id=\"T_c1e37674_e44d_11eb_a23e_d0a637e54642row1_col1\" class=\"data row1 col1\" >$4.23</td>\n",
       "                        <td id=\"T_c1e37674_e44d_11eb_a23e_d0a637e54642row1_col2\" class=\"data row1 col2\" >$50.76</td>\n",
       "            </tr>\n",
       "            <tr>\n",
       "                        <th id=\"T_c1e37674_e44d_11eb_a23e_d0a637e54642level0_row2\" class=\"row_heading level0 row2\" >145</th>\n",
       "                        <th id=\"T_c1e37674_e44d_11eb_a23e_d0a637e54642level1_row2\" class=\"row_heading level1 row2\" >Fiery Glass Crusader</th>\n",
       "                        <td id=\"T_c1e37674_e44d_11eb_a23e_d0a637e54642row2_col0\" class=\"data row2 col0\" >9</td>\n",
       "                        <td id=\"T_c1e37674_e44d_11eb_a23e_d0a637e54642row2_col1\" class=\"data row2 col1\" >$4.58</td>\n",
       "                        <td id=\"T_c1e37674_e44d_11eb_a23e_d0a637e54642row2_col2\" class=\"data row2 col2\" >$41.22</td>\n",
       "            </tr>\n",
       "            <tr>\n",
       "                        <th id=\"T_c1e37674_e44d_11eb_a23e_d0a637e54642level0_row3\" class=\"row_heading level0 row3\" >132</th>\n",
       "                        <th id=\"T_c1e37674_e44d_11eb_a23e_d0a637e54642level1_row3\" class=\"row_heading level1 row3\" >Persuasion</th>\n",
       "                        <td id=\"T_c1e37674_e44d_11eb_a23e_d0a637e54642row3_col0\" class=\"data row3 col0\" >9</td>\n",
       "                        <td id=\"T_c1e37674_e44d_11eb_a23e_d0a637e54642row3_col1\" class=\"data row3 col1\" >$3.22</td>\n",
       "                        <td id=\"T_c1e37674_e44d_11eb_a23e_d0a637e54642row3_col2\" class=\"data row3 col2\" >$28.99</td>\n",
       "            </tr>\n",
       "            <tr>\n",
       "                        <th id=\"T_c1e37674_e44d_11eb_a23e_d0a637e54642level0_row4\" class=\"row_heading level0 row4\" >108</th>\n",
       "                        <th id=\"T_c1e37674_e44d_11eb_a23e_d0a637e54642level1_row4\" class=\"row_heading level1 row4\" >Extraction, Quickblade Of Trembling Hands</th>\n",
       "                        <td id=\"T_c1e37674_e44d_11eb_a23e_d0a637e54642row4_col0\" class=\"data row4 col0\" >9</td>\n",
       "                        <td id=\"T_c1e37674_e44d_11eb_a23e_d0a637e54642row4_col1\" class=\"data row4 col1\" >$3.53</td>\n",
       "                        <td id=\"T_c1e37674_e44d_11eb_a23e_d0a637e54642row4_col2\" class=\"data row4 col2\" >$31.77</td>\n",
       "            </tr>\n",
       "    </tbody></table>"
      ],
      "text/plain": [
       "<pandas.io.formats.style.Styler at 0x7fc6589a9ba8>"
      ]
     },
     "execution_count": 44,
     "metadata": {},
     "output_type": "execute_result"
    }
   ],
   "source": [
    "simple_purchase_data_df = purchase_data_df[[\"Item ID\",\"Item Name\",\"Price\"]]\n",
    "purchase_data_groupbys_df = simple_purchase_data_df.groupby([\"Item ID\",\"Item Name\"])\n",
    "purchase_count_3 = purchase_data_groupbys_df[\"Price\"].count()\n",
    "average_purchase_price_3 = purchase_data_groupbys_df[\"Price\"].mean()\n",
    "total_purchase_value_3 = purchase_data_groupbys_df[\"Price\"].sum()\n",
    "item_price = total_purchase_value_3/purchase_count_3\n",
    "\n",
    "\n",
    "most_popular_items_df = pd.DataFrame({\"Purchase Count\": purchase_count_3,\n",
    "                                       \"Item Price\": item_price,\n",
    "                                       \"Total Purchase Value\": total_purchase_value_3,})\n",
    "\n",
    "most_popular_items_descending_df = most_popular_items_df.sort_values([\"Purchase Count\"], ascending=False).head()\n",
    "\n",
    "most_popular_items_format_df = most_popular_items_descending_df.style.format({\"Item Price\":\"${:.2f}\",\n",
    "                                                                     \"Total Purchase Value\":\"${:.2f}\"})\n",
    "\n",
    "\n",
    "\n",
    "most_popular_items_format_df"
   ]
  },
  {
   "cell_type": "markdown",
   "metadata": {},
   "source": [
    "## Most Profitable Items"
   ]
  },
  {
   "cell_type": "markdown",
   "metadata": {},
   "source": [
    "* Sort the above table by total purchase value in descending order\n",
    "\n",
    "\n",
    "* Optional: give the displayed data cleaner formatting\n",
    "\n",
    "\n",
    "* Display a preview of the data frame\n",
    "\n"
   ]
  },
  {
   "cell_type": "code",
   "execution_count": 45,
   "metadata": {},
   "outputs": [
    {
     "data": {
      "text/html": [
       "<style  type=\"text/css\" >\n",
       "</style><table id=\"T_fbecfe62_e44d_11eb_bbfb_d0a637e54642\" ><thead>    <tr>        <th class=\"blank\" ></th>        <th class=\"blank level0\" ></th>        <th class=\"col_heading level0 col0\" >Purchase Count</th>        <th class=\"col_heading level0 col1\" >Item Price</th>        <th class=\"col_heading level0 col2\" >Total Purchase Value</th>    </tr>    <tr>        <th class=\"index_name level0\" >Item ID</th>        <th class=\"index_name level1\" >Item Name</th>        <th class=\"blank\" ></th>        <th class=\"blank\" ></th>        <th class=\"blank\" ></th>    </tr></thead><tbody>\n",
       "                <tr>\n",
       "                        <th id=\"T_fbecfe62_e44d_11eb_bbfb_d0a637e54642level0_row0\" class=\"row_heading level0 row0\" >92</th>\n",
       "                        <th id=\"T_fbecfe62_e44d_11eb_bbfb_d0a637e54642level1_row0\" class=\"row_heading level1 row0\" >Final Critic</th>\n",
       "                        <td id=\"T_fbecfe62_e44d_11eb_bbfb_d0a637e54642row0_col0\" class=\"data row0 col0\" >13</td>\n",
       "                        <td id=\"T_fbecfe62_e44d_11eb_bbfb_d0a637e54642row0_col1\" class=\"data row0 col1\" >$4.61</td>\n",
       "                        <td id=\"T_fbecfe62_e44d_11eb_bbfb_d0a637e54642row0_col2\" class=\"data row0 col2\" >$59.99</td>\n",
       "            </tr>\n",
       "            <tr>\n",
       "                        <th id=\"T_fbecfe62_e44d_11eb_bbfb_d0a637e54642level0_row1\" class=\"row_heading level0 row1\" >178</th>\n",
       "                        <th id=\"T_fbecfe62_e44d_11eb_bbfb_d0a637e54642level1_row1\" class=\"row_heading level1 row1\" >Oathbreaker, Last Hope of the Breaking Storm</th>\n",
       "                        <td id=\"T_fbecfe62_e44d_11eb_bbfb_d0a637e54642row1_col0\" class=\"data row1 col0\" >12</td>\n",
       "                        <td id=\"T_fbecfe62_e44d_11eb_bbfb_d0a637e54642row1_col1\" class=\"data row1 col1\" >$4.23</td>\n",
       "                        <td id=\"T_fbecfe62_e44d_11eb_bbfb_d0a637e54642row1_col2\" class=\"data row1 col2\" >$50.76</td>\n",
       "            </tr>\n",
       "            <tr>\n",
       "                        <th id=\"T_fbecfe62_e44d_11eb_bbfb_d0a637e54642level0_row2\" class=\"row_heading level0 row2\" >82</th>\n",
       "                        <th id=\"T_fbecfe62_e44d_11eb_bbfb_d0a637e54642level1_row2\" class=\"row_heading level1 row2\" >Nirvana</th>\n",
       "                        <td id=\"T_fbecfe62_e44d_11eb_bbfb_d0a637e54642row2_col0\" class=\"data row2 col0\" >9</td>\n",
       "                        <td id=\"T_fbecfe62_e44d_11eb_bbfb_d0a637e54642row2_col1\" class=\"data row2 col1\" >$4.90</td>\n",
       "                        <td id=\"T_fbecfe62_e44d_11eb_bbfb_d0a637e54642row2_col2\" class=\"data row2 col2\" >$44.10</td>\n",
       "            </tr>\n",
       "            <tr>\n",
       "                        <th id=\"T_fbecfe62_e44d_11eb_bbfb_d0a637e54642level0_row3\" class=\"row_heading level0 row3\" >145</th>\n",
       "                        <th id=\"T_fbecfe62_e44d_11eb_bbfb_d0a637e54642level1_row3\" class=\"row_heading level1 row3\" >Fiery Glass Crusader</th>\n",
       "                        <td id=\"T_fbecfe62_e44d_11eb_bbfb_d0a637e54642row3_col0\" class=\"data row3 col0\" >9</td>\n",
       "                        <td id=\"T_fbecfe62_e44d_11eb_bbfb_d0a637e54642row3_col1\" class=\"data row3 col1\" >$4.58</td>\n",
       "                        <td id=\"T_fbecfe62_e44d_11eb_bbfb_d0a637e54642row3_col2\" class=\"data row3 col2\" >$41.22</td>\n",
       "            </tr>\n",
       "            <tr>\n",
       "                        <th id=\"T_fbecfe62_e44d_11eb_bbfb_d0a637e54642level0_row4\" class=\"row_heading level0 row4\" >103</th>\n",
       "                        <th id=\"T_fbecfe62_e44d_11eb_bbfb_d0a637e54642level1_row4\" class=\"row_heading level1 row4\" >Singed Scalpel</th>\n",
       "                        <td id=\"T_fbecfe62_e44d_11eb_bbfb_d0a637e54642row4_col0\" class=\"data row4 col0\" >8</td>\n",
       "                        <td id=\"T_fbecfe62_e44d_11eb_bbfb_d0a637e54642row4_col1\" class=\"data row4 col1\" >$4.35</td>\n",
       "                        <td id=\"T_fbecfe62_e44d_11eb_bbfb_d0a637e54642row4_col2\" class=\"data row4 col2\" >$34.80</td>\n",
       "            </tr>\n",
       "    </tbody></table>"
      ],
      "text/plain": [
       "<pandas.io.formats.style.Styler at 0x7fc65845c828>"
      ]
     },
     "execution_count": 45,
     "metadata": {},
     "output_type": "execute_result"
    }
   ],
   "source": [
    "most_popular_items_descending_df = most_popular_items_df.sort_values([\"Total Purchase Value\"], ascending=False).head()\n",
    "\n",
    "most_popular_items_format_df = most_popular_items_descending_df.style.format({\"Item Price\":\"${:.2f}\",\n",
    "                                                                     \"Total Purchase Value\":\"${:.2f}\"})\n",
    "\n",
    "\n",
    "\n",
    "most_popular_items_format_df"
   ]
  }
 ],
 "metadata": {
  "anaconda-cloud": {},
  "kernel_info": {
   "name": "python3"
  },
  "kernelspec": {
   "display_name": "Python [conda env:PythonData] *",
   "language": "python",
   "name": "conda-env-PythonData-py"
  },
  "language_info": {
   "codemirror_mode": {
    "name": "ipython",
    "version": 3
   },
   "file_extension": ".py",
   "mimetype": "text/x-python",
   "name": "python",
   "nbconvert_exporter": "python",
   "pygments_lexer": "ipython3",
   "version": "3.6.13"
  },
  "latex_envs": {
   "LaTeX_envs_menu_present": true,
   "autoclose": false,
   "autocomplete": true,
   "bibliofile": "biblio.bib",
   "cite_by": "apalike",
   "current_citInitial": 1,
   "eqLabelWithNumbers": true,
   "eqNumInitial": 1,
   "hotkeys": {
    "equation": "Ctrl-E",
    "itemize": "Ctrl-I"
   },
   "labels_anchors": false,
   "latex_user_defs": false,
   "report_style_numbering": false,
   "user_envs_cfg": false
  },
  "nteract": {
   "version": "0.2.0"
  }
 },
 "nbformat": 4,
 "nbformat_minor": 2
}
